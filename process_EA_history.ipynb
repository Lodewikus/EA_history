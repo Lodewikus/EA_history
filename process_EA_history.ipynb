{
 "cells": [
  {
   "cell_type": "code",
   "execution_count": 11,
   "metadata": {},
   "outputs": [],
   "source": [
    "import numpy as np\n",
    "import pandas as pd\n",
    "from datetime import datetime, date, time\n",
    "from tqdm import tqdm"
   ]
  },
  {
   "cell_type": "code",
   "execution_count": 12,
   "metadata": {},
   "outputs": [],
   "source": [
    "#_SELECT_ExecutionLog_scriptname_ExecutionStepLog_id_ExecutionSte_202311061246.csv\n",
    "CSV_filename = input(\"Enter the CSV filename for the EA history: \")\n",
    "\n",
    "print(\"Extracting script history...\")"
   ]
  },
  {
   "cell_type": "code",
   "execution_count": null,
   "metadata": {},
   "outputs": [],
   "source": [
    "sql_extract = pd.read_csv(\"./data/execution/\" + CSV_filename, low_memory=False)\n",
    "\n",
    "sql_extract.rename(columns={'linenum': 'lineNum', 'executionid': 'executionLogsId', 'scriptname': 'scriptName', 'label': 'label', 'status': 'step_status', 'starttime': 'startTime', 'endtime': 'endTime', 'duration': 'duration', 'id': 'StepLogsId'}, inplace=True)"
   ]
  },
  {
   "cell_type": "code",
   "execution_count": 13,
   "metadata": {},
   "outputs": [
    {
     "name": "stdout",
     "output_type": "stream",
     "text": [
      "5478863 records imported from the EA history file _SELECT_ExecutionLog_scriptname_ExecutionStepLog_id_ExecutionSte_202311061246.csv\n"
     ]
    }
   ],
   "source": [
    "history_length = len(sql_extract)\n",
    "print(f\"{history_length} records imported from the EA history file {CSV_filename}\")"
   ]
  },
  {
   "cell_type": "code",
   "execution_count": 14,
   "metadata": {},
   "outputs": [],
   "source": [
    "# rundate = '2023-11-03'\n",
    "# run_start_time = 8.0 # Time is UTC\n",
    "# run_finish_time = 23.0\n",
    "\n",
    "rundate = input(\"Enter the date of the test run as yyyy-mm-dd: \")\n",
    "run_start_time = input(\"Enter the start time of the run in the format h.mm (UTC time, no leading zeros): \")\n",
    "run_finish_time = input(\"Enter the finish time of the run in the format h.mm (UTC time, no leading zeros): \")\n",
    "run_start_time = float(run_start_time)\n",
    "run_finish_time = float(run_finish_time)\n"
   ]
  },
  {
   "cell_type": "code",
   "execution_count": 15,
   "metadata": {},
   "outputs": [
    {
     "name": "stdout",
     "output_type": "stream",
     "text": [
      "Extracting for test results generated on 2023-11-03, between 8.0 and 23.0.\n"
     ]
    }
   ],
   "source": [
    "print(f\"Extracting test results generated on {rundate}, between {run_start_time} and {run_finish_time}.\")"
   ]
  },
  {
   "cell_type": "code",
   "execution_count": 16,
   "metadata": {},
   "outputs": [],
   "source": [
    "df = sql_extract.copy()\n",
    "df.rename(columns={'label':'StepLabel'}, inplace=True)\n",
    "df = df.dropna(subset = ['scriptName']).copy()"
   ]
  },
  {
   "cell_type": "code",
   "execution_count": 17,
   "metadata": {},
   "outputs": [],
   "source": [
    "\n",
    "df = df.dropna(subset=['startTime']).copy()\n",
    "df = df.dropna(subset=['endTime']).copy()\n",
    "df = df.sort_values(by=['startTime'], ascending=False).copy()\n",
    "df = df.reset_index(drop=True)"
   ]
  },
  {
   "cell_type": "code",
   "execution_count": 18,
   "metadata": {},
   "outputs": [],
   "source": [
    "mask = (df['duration'] == 'None') \n",
    "df['duration'].mask(mask,'0',inplace=True)\n",
    "df['duration'] = pd.to_numeric(df['duration'])"
   ]
  },
  {
   "cell_type": "code",
   "execution_count": 19,
   "metadata": {},
   "outputs": [],
   "source": [
    "df['duration_sec'] = df.duration/1000\n",
    "df['duration_mins'] = df.duration/1000/60"
   ]
  },
  {
   "cell_type": "code",
   "execution_count": 20,
   "metadata": {},
   "outputs": [],
   "source": [
    "#df['date'] = pd.to_datetime(df['startTime'], format='%Y-%m-%d', utc=True).dt.date\n",
    "df['date'] = pd.to_datetime(df['startTime'], format='mixed', utc=True).dt.date\n",
    "df['date'] = pd.to_datetime(df['date'])\n"
   ]
  },
  {
   "cell_type": "code",
   "execution_count": 21,
   "metadata": {},
   "outputs": [],
   "source": [
    "df = df.query(\"date == @rundate\").copy()  # Remember time is UTC"
   ]
  },
  {
   "cell_type": "code",
   "execution_count": 22,
   "metadata": {},
   "outputs": [],
   "source": [
    "df['time'] = pd.to_datetime(df['startTime'], utc=True).dt.time"
   ]
  },
  {
   "cell_type": "code",
   "execution_count": 23,
   "metadata": {},
   "outputs": [],
   "source": [
    "df['time_dec'] = df['time'].astype(str)\n",
    "df['time_dec'] = df['time_dec'].str[:5]\n",
    "df['time_dec'] = df['time_dec'].str.replace(':','.')\n",
    "df['time_dec'] = df['time_dec'].astype(float)"
   ]
  },
  {
   "attachments": {},
   "cell_type": "markdown",
   "metadata": {},
   "source": [
    "### Add a column to indicate Runs of each test script\n",
    "As there is no other field available via the API, this field is generated each time the lineNum == 1.  This assumes that there will always be a step 1 in every test case.\n",
    "Before this can be done, first sort the whole dataframe"
   ]
  },
  {
   "cell_type": "code",
   "execution_count": 24,
   "metadata": {},
   "outputs": [],
   "source": [
    "df.sort_values(by=['executionLogsId','StepLogsId'], inplace=True)\n",
    "df = df.reset_index(drop=True)"
   ]
  },
  {
   "cell_type": "code",
   "execution_count": 25,
   "metadata": {},
   "outputs": [],
   "source": [
    "# This is the new code to allocate a 'run' number and increment it every time the lineNum == 1.  This was generated by ChatGPT based on the code above :-)\n",
    "\n",
    "df['run'] = (df['lineNum'] == 1).cumsum()"
   ]
  },
  {
   "attachments": {},
   "cell_type": "markdown",
   "metadata": {},
   "source": [
    "### Generate a field to indicate where test scripts have run to the last step of the script\n",
    "This assumes that the last step is \"End script\"\n",
    "First sort the dataframe by Runs\n",
    "Then add a new text field that is a concatenation of all the step labels for each run\n",
    "Finally, check which of those strings contain the text \"End script\""
   ]
  },
  {
   "cell_type": "code",
   "execution_count": 26,
   "metadata": {},
   "outputs": [],
   "source": [
    "runs_np = df.run.unique()\n",
    "end_script_dict = {}\n",
    "for i in runs_np:\n",
    "    end_script_dict[i] = 'Script stopped'\n",
    "step_error_dict = {}\n",
    "for i in runs_np:\n",
    "    step_error_dict[i] = 'No step errors'"
   ]
  },
  {
   "cell_type": "code",
   "execution_count": 27,
   "metadata": {},
   "outputs": [],
   "source": [
    "df.sort_values(by=['run'], inplace=True)\n",
    "df = df.reset_index(drop=True)"
   ]
  },
  {
   "cell_type": "code",
   "execution_count": 28,
   "metadata": {},
   "outputs": [],
   "source": [
    "for idx in df.index:\n",
    "    #if run == 10: break\n",
    "    run = df['run'][idx]\n",
    "    if df['StepLabel'][idx] == 'End script':\n",
    "        end_script_dict[run] = 'Script completed'\n",
    "    if df['step_status'][idx] == 'ERROR':\n",
    "        step_error_dict[run] = 'One or more step errors'"
   ]
  },
  {
   "cell_type": "code",
   "execution_count": 29,
   "metadata": {},
   "outputs": [],
   "source": [
    "end_script_df = pd.DataFrame.from_dict(end_script_dict,orient ='index',columns=['script_completion'])\n",
    "end_script_df.reset_index(inplace=True)\n",
    "end_script_df.rename(columns={'index':'run'}, inplace=True)"
   ]
  },
  {
   "cell_type": "code",
   "execution_count": 30,
   "metadata": {},
   "outputs": [],
   "source": [
    "step_error_df = pd.DataFrame.from_dict(step_error_dict,orient ='index',columns=['step_error'])\n",
    "step_error_df.reset_index(inplace=True)\n",
    "step_error_df.rename(columns={'index':'run'}, inplace=True)"
   ]
  },
  {
   "cell_type": "code",
   "execution_count": 31,
   "metadata": {},
   "outputs": [],
   "source": [
    "df = pd.merge(\n",
    "    df,\n",
    "    end_script_df,\n",
    "    how=\"inner\",\n",
    "    on=None,\n",
    "    left_on='run',\n",
    "    right_on='run',\n",
    "    left_index=False,\n",
    "    right_index=False,\n",
    "    sort=True,\n",
    "    suffixes=(\"_x\", \"_y\"),\n",
    "    copy=True,\n",
    "    indicator=False,\n",
    "    validate=None,\n",
    ")"
   ]
  },
  {
   "cell_type": "code",
   "execution_count": 32,
   "metadata": {},
   "outputs": [],
   "source": [
    "df = pd.merge(\n",
    "    df,\n",
    "    step_error_df,\n",
    "    how=\"inner\",\n",
    "    on=None,\n",
    "    left_on='run',\n",
    "    right_on='run',\n",
    "    left_index=False,\n",
    "    right_index=False,\n",
    "    sort=True,\n",
    "    suffixes=(\"_x\", \"_y\"),\n",
    "    copy=True,\n",
    "    indicator=False,\n",
    "    validate=None,\n",
    ")"
   ]
  },
  {
   "cell_type": "code",
   "execution_count": 33,
   "metadata": {},
   "outputs": [],
   "source": [
    "df.rename(columns={'script_status': 'EA_script_status','step_state': 'EA_step_state','step_status': 'EA_step_status','step_error': 'IPT_step_error','script_completion': 'IPT_script_completion'}, inplace=True)"
   ]
  },
  {
   "cell_type": "code",
   "execution_count": 34,
   "metadata": {},
   "outputs": [],
   "source": [
    "df['KPI'] = 'Not mapped'"
   ]
  },
  {
   "cell_type": "code",
   "execution_count": 35,
   "metadata": {},
   "outputs": [],
   "source": [
    "# K1\n",
    "mask = (df['scriptName'].str.contains('Place a sales local order',case=False))\n",
    "df['KPI'].mask(mask,'K01 Place a sales local order',inplace=True)\n",
    "\n",
    "# K2\n",
    "mask = (df['scriptName'].str.contains('Place a B2B local order',case=False))\n",
    "df['KPI'].mask(mask,'K02 Place a B2B/EDI order and Send Confirmation',inplace=True)\n",
    "\n",
    "# K3 Place Service Portal Order\n",
    "# No test script\n",
    "\n",
    "# K4\n",
    "mask = (df['scriptName'].str.contains('Amend an existing sales order',case=False))\n",
    "df['KPI'].mask(mask,'K04 Amend an existing sales order',inplace=True)\n",
    "\n",
    "# K5\n",
    "mask = (df['scriptName'].str.contains('Trade Returns Order',case=False))\n",
    "df['KPI'].mask(mask,'K05 Place a Trade Returns Order',inplace=True)\n",
    "\n",
    "# K6\n",
    "mask = (df['scriptName'].str.contains('Submit a B2B Remittance',case=False))\n",
    "df['KPI'].mask(mask,'K06 B2B Remittance',inplace=True)\n",
    "\n",
    "# K7 B2B Remittance Adjustment\n",
    "# No test script\n",
    "\n",
    "#K8\n",
    "mask = (df['scriptName'].str.contains('Receipted payment processing',case=False))\n",
    "df['KPI'].mask(mask,'K08 Receipted payment processing SA Only at the moment',inplace=True)\n",
    "\n",
    "# K9 aDSD Batch Job posting invoice for HHD billing document \n",
    "# No test script\n",
    "\n",
    "# K10\n",
    "mask = (df['scriptName'].str.contains('Credit status check',case=False))\n",
    "df['KPI'].mask(mask,'K10 Credit status check',inplace=True)\n",
    "\n",
    "# K11\n",
    "mask = (df['scriptName'].str.contains('Send Load to Roadnet',case=False))\n",
    "df['KPI'].mask(mask,'K11 Send Load to Roadnet load for Planning',inplace=True)\n",
    "\n",
    "# K12\n",
    "mask = (df['scriptName'].str.contains('Receive load from Roadnet',case=False))\n",
    "df['KPI'].mask(mask,'K12 Receive load from Roadnet into D365',inplace=True)\n",
    "\n",
    "# K13b\n",
    "mask = (df['scriptName'].str.contains('Release to warehouse',case=False) & df['scriptName'].str.contains('Roadnet loads',case=False))\n",
    "df['KPI'].mask(mask,'K13b Release to Warehouse & Complete Picking Work (Roadnet loads)',inplace=True)\n",
    "# Release to Warehouse (Roadnet loads) & Complete Picking Work & Process OOS\n",
    "\n",
    "# K13\n",
    "mask = (df['scriptName'].str.contains('Release to Warehouse',case=False) & df['scriptName'].str.contains('manual',case=False))\n",
    "df['KPI'].mask(mask,'K13 Release to Warehouse (manually planned loads)',inplace=True)\n",
    "\n",
    "# K14 Complete Picking Work & Process OOS \n",
    "# Not mapped??\n",
    "\n",
    "# K14b\n",
    "mask = (df['scriptName'].str.contains('Complete Picking Work',case=False) & df['scriptName'].str.contains('manual loads',case=False))\n",
    "df['KPI'].mask(mask,'K14b Complete Picking Work & Process OOS (manually planned loads)',inplace=True)\n",
    "\n",
    "# K15\n",
    "mask = (df['scriptName'].str.contains('aDSD Load confirmation',case=False))\n",
    "df['KPI'].mask(mask,'K15 aDSD Load confirmation',inplace=True)\n",
    "\n",
    "# K15 (UG1, MZ1)\n",
    "mask = (df['scriptName'].str.contains('Invoice Load confirmation',case=False))\n",
    "df['KPI'].mask(mask,'K15 Invoice Load confirmation',inplace=True)\n",
    "\n",
    "# K16\n",
    "mask = (df['scriptName'].str.contains('Load upload',case=False) & df['scriptName'].str.contains('Settlement',case=False))\n",
    "df['KPI'].mask(mask,'K16 Load upload & Settlement',inplace=True)\n",
    "\n",
    "# K17\n",
    "mask = (df['scriptName'].str.contains('Create a cost estimate',case=False))\n",
    "df['KPI'].mask(mask,'K17 Create a cost estimate for all standard costed procured materials',inplace=True)\n",
    "\n",
    "# K18\n",
    "mask = (df['scriptName'].str.contains('Imported Statistical',case=False))\n",
    "df['KPI'].mask(mask,'K18 Import Actual Statistical entries, into Cost Accounting',inplace=True)\n",
    "\n",
    "# K19\n",
    "mask = (df['scriptName'].str.contains('Distribute the range of items pending prices',case=False))\n",
    "df['KPI'].mask(mask,'K19 Distribute the range of items pending prices to another site',inplace=True)\n",
    "\n",
    "# K20\n",
    "mask = ((df['scriptName'].str.contains('Cost Rollup',case=False) & df['scriptName'].str.contains('Cost Allocation',case=False)) | df['scriptName'].str.contains('Maintain cost distribution table',case=False))\n",
    "df['KPI'].mask(mask,'K20 Run Cost Rollup and Cost Allocation Policies',inplace=True)\n",
    "\n",
    "# K21\n",
    "mask = (df['scriptName'].str.contains('Place SFA order',case=False))\n",
    "df['KPI'].mask(mask,'K21 Place SFA order and Send Confirmation',inplace=True)"
   ]
  },
  {
   "cell_type": "code",
   "execution_count": 36,
   "metadata": {},
   "outputs": [],
   "source": [
    "df.sort_values(by=['KPI', 'scriptName', 'executionLogsId', 'run', 'lineNum'], inplace=True)\n",
    "df = df.reset_index(drop=True)"
   ]
  },
  {
   "cell_type": "code",
   "execution_count": 37,
   "metadata": {},
   "outputs": [],
   "source": [
    "df = df.dropna(subset=['StepLabel']).copy()"
   ]
  },
  {
   "cell_type": "markdown",
   "metadata": {},
   "source": [
    "### Filter the dataset for output on a specific test cycle"
   ]
  },
  {
   "cell_type": "code",
   "execution_count": 38,
   "metadata": {},
   "outputs": [],
   "source": [
    "df1 = df.query(\"date == @rundate and time_dec > @run_start_time and time_dec < @run_finish_time\").copy()  # Remember time is UTC"
   ]
  },
  {
   "cell_type": "code",
   "execution_count": 39,
   "metadata": {},
   "outputs": [],
   "source": [
    "df1 = df1.reset_index(drop=True).copy()"
   ]
  },
  {
   "cell_type": "markdown",
   "metadata": {},
   "source": [
    "### Mark those Test Script Steps that must be included in the time measurement"
   ]
  },
  {
   "cell_type": "code",
   "execution_count": 40,
   "metadata": {},
   "outputs": [
    {
     "name": "stdout",
     "output_type": "stream",
     "text": [
      "Generating KPIs\n"
     ]
    }
   ],
   "source": [
    "print(\"Generating KPIs\")"
   ]
  },
  {
   "cell_type": "code",
   "execution_count": 41,
   "metadata": {},
   "outputs": [],
   "source": [
    "df1['KPI_no'] = ''"
   ]
  },
  {
   "cell_type": "code",
   "execution_count": 42,
   "metadata": {},
   "outputs": [],
   "source": [
    "df1['Include_in_measure'] = False"
   ]
  },
  {
   "cell_type": "code",
   "execution_count": 43,
   "metadata": {},
   "outputs": [],
   "source": [
    "kpi_numbers = ['K11', 'K12', 'K13', 'K14', 'K15', 'K16', 'K17', 'K18', 'K19', 'K20',\n",
    "               'NAK11', 'NAK12', 'NAK13', 'NAK14', 'NAK15', 'NAK16', 'NAK17', 'NAK18', 'NAK19', 'NAK20',\n",
    "               'MZK11', 'MZK12', 'MZK13', 'MZK14', 'MZK15', 'MZK16', 'MZK17', 'MZK18', 'MZK19', 'MZK20',\n",
    "               'UGK11', 'UGK12', 'UGK13', 'UGK14', 'UGK15', 'UGK16', 'UGK17', 'UGK18', 'UGK19', 'UGK20']\n"
   ]
  },
  {
   "cell_type": "code",
   "execution_count": 44,
   "metadata": {},
   "outputs": [
    {
     "name": "stderr",
     "output_type": "stream",
     "text": [
      " 34%|███▍      | 20656/59908 [00:00<00:00, 206539.02it/s]"
     ]
    },
    {
     "name": "stderr",
     "output_type": "stream",
     "text": [
      "100%|██████████| 59908/59908 [00:00<00:00, 130716.55it/s]\n",
      "100%|██████████| 59908/59908 [00:00<00:00, 147636.88it/s]\n"
     ]
    }
   ],
   "source": [
    "for idx in df1.index:\n",
    "    label = df1['StepLabel'][idx]\n",
    "    prefix = label[0:5]\n",
    "    if prefix in kpi_numbers:\n",
    "        if label[5] == 'b':\n",
    "            df1.at[idx, 'KPI_no'] = prefix + 'b'\n",
    "        else:\n",
    "            df1.at[idx, 'KPI_no'] = prefix  \n",
    "        df1.at[idx, 'Include_in_measure'] = True\n",
    "\n",
    "for idx in df1.index:\n",
    "    label = df1['StepLabel'][idx]\n",
    "    prefix = label[0:3]\n",
    "    if prefix in kpi_numbers:\n",
    "        if label[3] == 'b':\n",
    "            df1.at[idx, 'KPI_no'] = prefix + 'b'\n",
    "        else:\n",
    "            df1.at[idx, 'KPI_no'] = prefix  \n",
    "        df1.at[idx, 'Include_in_measure'] = True        "
   ]
  },
  {
   "cell_type": "code",
   "execution_count": 45,
   "metadata": {},
   "outputs": [],
   "source": [
    "filename = 'data/execution/' + rundate +  '_results_filtered.csv'\n",
    "df1.to_csv(filename,index=False)"
   ]
  },
  {
   "cell_type": "code",
   "execution_count": 46,
   "metadata": {},
   "outputs": [],
   "source": [
    "df2 = df1.query(\"Include_in_measure == True and EA_step_status != 'ERROR'\").copy()"
   ]
  },
  {
   "cell_type": "code",
   "execution_count": 48,
   "metadata": {},
   "outputs": [],
   "source": [
    "df2 = df2.drop_duplicates(keep='first')\n",
    "df2 = df2.reset_index(drop=True)"
   ]
  },
  {
   "cell_type": "code",
   "execution_count": 49,
   "metadata": {},
   "outputs": [],
   "source": [
    "# 90th Percentile\n",
    "def q90(x):\n",
    "    return x.quantile(0.9)\n",
    "\n",
    "\n",
    "kpi_results = df2.groupby(['KPI_no']).agg({'KPI': 'first', 'duration_sec': ['mean', 'max', q90, 'std'], 'run': 'count'}).reset_index()\n",
    "\n",
    "# Flatten multi-level columns\n",
    "kpi_results.columns = ['_'.join(col) for col in kpi_results.columns]\n",
    "kpi_results = kpi_results.reset_index(drop=True)"
   ]
  },
  {
   "cell_type": "code",
   "execution_count": 50,
   "metadata": {},
   "outputs": [],
   "source": [
    "kpi_results.rename(columns={'KPI_no_': 'KPI_no', 'KPI_first':'KPI Process', 'duration_sec_mean': 'Average', 'duration_sec_max': 'Max', 'duration_sec_q90': '90th_%', 'duration_sec_std': 'SD', 'run_count': 'Successful Runs'}, inplace=True)"
   ]
  },
  {
   "cell_type": "code",
   "execution_count": 52,
   "metadata": {},
   "outputs": [],
   "source": [
    "kpi_results = kpi_results.round(decimals=1)"
   ]
  },
  {
   "cell_type": "code",
   "execution_count": 54,
   "metadata": {},
   "outputs": [
    {
     "data": {
      "text/html": [
       "<div>\n",
       "<style scoped>\n",
       "    .dataframe tbody tr th:only-of-type {\n",
       "        vertical-align: middle;\n",
       "    }\n",
       "\n",
       "    .dataframe tbody tr th {\n",
       "        vertical-align: top;\n",
       "    }\n",
       "\n",
       "    .dataframe thead th {\n",
       "        text-align: right;\n",
       "    }\n",
       "</style>\n",
       "<table border=\"1\" class=\"dataframe\">\n",
       "  <thead>\n",
       "    <tr style=\"text-align: right;\">\n",
       "      <th></th>\n",
       "      <th>KPI_no</th>\n",
       "      <th>KPI Process</th>\n",
       "      <th>Average</th>\n",
       "      <th>Max</th>\n",
       "      <th>90th_%</th>\n",
       "      <th>SD</th>\n",
       "      <th>Successful Runs</th>\n",
       "    </tr>\n",
       "  </thead>\n",
       "  <tbody>\n",
       "    <tr>\n",
       "      <th>0</th>\n",
       "      <td>K11</td>\n",
       "      <td>K11 Send Load to Roadnet load for Planning</td>\n",
       "      <td>3.7</td>\n",
       "      <td>7.5</td>\n",
       "      <td>5.1</td>\n",
       "      <td>1.1</td>\n",
       "      <td>120</td>\n",
       "    </tr>\n",
       "    <tr>\n",
       "      <th>1</th>\n",
       "      <td>K12</td>\n",
       "      <td>K12 Receive load from Roadnet into D365</td>\n",
       "      <td>187.9</td>\n",
       "      <td>356.0</td>\n",
       "      <td>317.9</td>\n",
       "      <td>120.7</td>\n",
       "      <td>7</td>\n",
       "    </tr>\n",
       "    <tr>\n",
       "      <th>2</th>\n",
       "      <td>K13</td>\n",
       "      <td>K13 Release to Warehouse (manually planned loads)</td>\n",
       "      <td>17.8</td>\n",
       "      <td>40.3</td>\n",
       "      <td>33.8</td>\n",
       "      <td>12.1</td>\n",
       "      <td>8</td>\n",
       "    </tr>\n",
       "    <tr>\n",
       "      <th>3</th>\n",
       "      <td>K13b</td>\n",
       "      <td>K13b Release to Warehouse &amp; Complete Picking W...</td>\n",
       "      <td>19.1</td>\n",
       "      <td>105.8</td>\n",
       "      <td>34.1</td>\n",
       "      <td>14.6</td>\n",
       "      <td>173</td>\n",
       "    </tr>\n",
       "    <tr>\n",
       "      <th>4</th>\n",
       "      <td>K14</td>\n",
       "      <td>K13 Release to Warehouse (manually planned loads)</td>\n",
       "      <td>39.0</td>\n",
       "      <td>66.5</td>\n",
       "      <td>65.5</td>\n",
       "      <td>23.4</td>\n",
       "      <td>8</td>\n",
       "    </tr>\n",
       "    <tr>\n",
       "      <th>5</th>\n",
       "      <td>K14b</td>\n",
       "      <td>K13b Release to Warehouse &amp; Complete Picking W...</td>\n",
       "      <td>21.8</td>\n",
       "      <td>133.9</td>\n",
       "      <td>54.6</td>\n",
       "      <td>22.8</td>\n",
       "      <td>404</td>\n",
       "    </tr>\n",
       "    <tr>\n",
       "      <th>6</th>\n",
       "      <td>K15</td>\n",
       "      <td>K15 Invoice Load confirmation</td>\n",
       "      <td>29.4</td>\n",
       "      <td>531.9</td>\n",
       "      <td>67.4</td>\n",
       "      <td>34.0</td>\n",
       "      <td>604</td>\n",
       "    </tr>\n",
       "    <tr>\n",
       "      <th>7</th>\n",
       "      <td>K18</td>\n",
       "      <td>K18 Import Actual Statistical entries, into Co...</td>\n",
       "      <td>54.8</td>\n",
       "      <td>54.8</td>\n",
       "      <td>54.8</td>\n",
       "      <td>NaN</td>\n",
       "      <td>1</td>\n",
       "    </tr>\n",
       "    <tr>\n",
       "      <th>8</th>\n",
       "      <td>MZK11</td>\n",
       "      <td>K11 Send Load to Roadnet load for Planning</td>\n",
       "      <td>3.9</td>\n",
       "      <td>4.8</td>\n",
       "      <td>4.6</td>\n",
       "      <td>0.8</td>\n",
       "      <td>6</td>\n",
       "    </tr>\n",
       "    <tr>\n",
       "      <th>9</th>\n",
       "      <td>MZK13</td>\n",
       "      <td>K13 Release to Warehouse (manually planned loads)</td>\n",
       "      <td>12.6</td>\n",
       "      <td>16.1</td>\n",
       "      <td>15.3</td>\n",
       "      <td>3.5</td>\n",
       "      <td>4</td>\n",
       "    </tr>\n",
       "    <tr>\n",
       "      <th>10</th>\n",
       "      <td>MZK13b</td>\n",
       "      <td>K13b Release to Warehouse &amp; Complete Picking W...</td>\n",
       "      <td>23.6</td>\n",
       "      <td>69.1</td>\n",
       "      <td>39.5</td>\n",
       "      <td>15.3</td>\n",
       "      <td>33</td>\n",
       "    </tr>\n",
       "    <tr>\n",
       "      <th>11</th>\n",
       "      <td>MZK14</td>\n",
       "      <td>K13 Release to Warehouse (manually planned loads)</td>\n",
       "      <td>6.0</td>\n",
       "      <td>12.5</td>\n",
       "      <td>10.0</td>\n",
       "      <td>4.3</td>\n",
       "      <td>4</td>\n",
       "    </tr>\n",
       "    <tr>\n",
       "      <th>12</th>\n",
       "      <td>MZK14b</td>\n",
       "      <td>K13b Release to Warehouse &amp; Complete Picking W...</td>\n",
       "      <td>11.4</td>\n",
       "      <td>52.1</td>\n",
       "      <td>28.3</td>\n",
       "      <td>10.5</td>\n",
       "      <td>379</td>\n",
       "    </tr>\n",
       "    <tr>\n",
       "      <th>13</th>\n",
       "      <td>MZK15</td>\n",
       "      <td>K15 Invoice Load confirmation</td>\n",
       "      <td>56.9</td>\n",
       "      <td>267.8</td>\n",
       "      <td>118.0</td>\n",
       "      <td>49.5</td>\n",
       "      <td>62</td>\n",
       "    </tr>\n",
       "    <tr>\n",
       "      <th>14</th>\n",
       "      <td>NAK11</td>\n",
       "      <td>K11 Send Load to Roadnet load for Planning</td>\n",
       "      <td>5.6</td>\n",
       "      <td>8.5</td>\n",
       "      <td>7.4</td>\n",
       "      <td>1.8</td>\n",
       "      <td>5</td>\n",
       "    </tr>\n",
       "    <tr>\n",
       "      <th>15</th>\n",
       "      <td>NAK12</td>\n",
       "      <td>K12 Receive load from Roadnet into D365</td>\n",
       "      <td>55.9</td>\n",
       "      <td>55.9</td>\n",
       "      <td>55.9</td>\n",
       "      <td>NaN</td>\n",
       "      <td>1</td>\n",
       "    </tr>\n",
       "    <tr>\n",
       "      <th>16</th>\n",
       "      <td>NAK13</td>\n",
       "      <td>K13 Release to Warehouse (manually planned loads)</td>\n",
       "      <td>13.0</td>\n",
       "      <td>22.2</td>\n",
       "      <td>18.0</td>\n",
       "      <td>5.3</td>\n",
       "      <td>6</td>\n",
       "    </tr>\n",
       "    <tr>\n",
       "      <th>17</th>\n",
       "      <td>NAK13b</td>\n",
       "      <td>K13b Release to Warehouse &amp; Complete Picking W...</td>\n",
       "      <td>24.2</td>\n",
       "      <td>131.4</td>\n",
       "      <td>59.0</td>\n",
       "      <td>24.8</td>\n",
       "      <td>60</td>\n",
       "    </tr>\n",
       "    <tr>\n",
       "      <th>18</th>\n",
       "      <td>NAK14</td>\n",
       "      <td>K13 Release to Warehouse (manually planned loads)</td>\n",
       "      <td>36.7</td>\n",
       "      <td>67.6</td>\n",
       "      <td>67.4</td>\n",
       "      <td>24.9</td>\n",
       "      <td>6</td>\n",
       "    </tr>\n",
       "    <tr>\n",
       "      <th>19</th>\n",
       "      <td>NAK14b</td>\n",
       "      <td>K13b Release to Warehouse &amp; Complete Picking W...</td>\n",
       "      <td>37.6</td>\n",
       "      <td>93.3</td>\n",
       "      <td>74.9</td>\n",
       "      <td>23.6</td>\n",
       "      <td>60</td>\n",
       "    </tr>\n",
       "    <tr>\n",
       "      <th>20</th>\n",
       "      <td>NAK15</td>\n",
       "      <td>K15 Invoice Load confirmation</td>\n",
       "      <td>57.6</td>\n",
       "      <td>527.8</td>\n",
       "      <td>119.0</td>\n",
       "      <td>70.0</td>\n",
       "      <td>288</td>\n",
       "    </tr>\n",
       "    <tr>\n",
       "      <th>21</th>\n",
       "      <td>UGK11</td>\n",
       "      <td>K11 Send Load to Roadnet load for Planning</td>\n",
       "      <td>2.3</td>\n",
       "      <td>2.7</td>\n",
       "      <td>2.7</td>\n",
       "      <td>0.3</td>\n",
       "      <td>6</td>\n",
       "    </tr>\n",
       "    <tr>\n",
       "      <th>22</th>\n",
       "      <td>UGK12</td>\n",
       "      <td>K12 Receive load from Roadnet into D365</td>\n",
       "      <td>17.1</td>\n",
       "      <td>17.1</td>\n",
       "      <td>17.1</td>\n",
       "      <td>NaN</td>\n",
       "      <td>1</td>\n",
       "    </tr>\n",
       "    <tr>\n",
       "      <th>23</th>\n",
       "      <td>UGK13</td>\n",
       "      <td>K13 Release to Warehouse (manually planned loads)</td>\n",
       "      <td>8.3</td>\n",
       "      <td>13.0</td>\n",
       "      <td>9.9</td>\n",
       "      <td>2.1</td>\n",
       "      <td>7</td>\n",
       "    </tr>\n",
       "    <tr>\n",
       "      <th>24</th>\n",
       "      <td>UGK13b</td>\n",
       "      <td>K13b Release to Warehouse &amp; Complete Picking W...</td>\n",
       "      <td>55.8</td>\n",
       "      <td>149.9</td>\n",
       "      <td>117.2</td>\n",
       "      <td>46.6</td>\n",
       "      <td>11</td>\n",
       "    </tr>\n",
       "    <tr>\n",
       "      <th>25</th>\n",
       "      <td>UGK14</td>\n",
       "      <td>K13 Release to Warehouse (manually planned loads)</td>\n",
       "      <td>14.5</td>\n",
       "      <td>38.6</td>\n",
       "      <td>32.8</td>\n",
       "      <td>13.8</td>\n",
       "      <td>7</td>\n",
       "    </tr>\n",
       "    <tr>\n",
       "      <th>26</th>\n",
       "      <td>UGK14b</td>\n",
       "      <td>K13b Release to Warehouse &amp; Complete Picking W...</td>\n",
       "      <td>10.2</td>\n",
       "      <td>46.0</td>\n",
       "      <td>24.2</td>\n",
       "      <td>9.4</td>\n",
       "      <td>403</td>\n",
       "    </tr>\n",
       "    <tr>\n",
       "      <th>27</th>\n",
       "      <td>UGK15</td>\n",
       "      <td>K15 Invoice Load confirmation</td>\n",
       "      <td>94.4</td>\n",
       "      <td>255.0</td>\n",
       "      <td>148.8</td>\n",
       "      <td>63.0</td>\n",
       "      <td>11</td>\n",
       "    </tr>\n",
       "  </tbody>\n",
       "</table>\n",
       "</div>"
      ],
      "text/plain": [
       "    KPI_no                                        KPI Process  Average    Max  \\\n",
       "0      K11         K11 Send Load to Roadnet load for Planning      3.7    7.5   \n",
       "1      K12            K12 Receive load from Roadnet into D365    187.9  356.0   \n",
       "2      K13  K13 Release to Warehouse (manually planned loads)     17.8   40.3   \n",
       "3     K13b  K13b Release to Warehouse & Complete Picking W...     19.1  105.8   \n",
       "4      K14  K13 Release to Warehouse (manually planned loads)     39.0   66.5   \n",
       "5     K14b  K13b Release to Warehouse & Complete Picking W...     21.8  133.9   \n",
       "6      K15                      K15 Invoice Load confirmation     29.4  531.9   \n",
       "7      K18  K18 Import Actual Statistical entries, into Co...     54.8   54.8   \n",
       "8    MZK11         K11 Send Load to Roadnet load for Planning      3.9    4.8   \n",
       "9    MZK13  K13 Release to Warehouse (manually planned loads)     12.6   16.1   \n",
       "10  MZK13b  K13b Release to Warehouse & Complete Picking W...     23.6   69.1   \n",
       "11   MZK14  K13 Release to Warehouse (manually planned loads)      6.0   12.5   \n",
       "12  MZK14b  K13b Release to Warehouse & Complete Picking W...     11.4   52.1   \n",
       "13   MZK15                      K15 Invoice Load confirmation     56.9  267.8   \n",
       "14   NAK11         K11 Send Load to Roadnet load for Planning      5.6    8.5   \n",
       "15   NAK12            K12 Receive load from Roadnet into D365     55.9   55.9   \n",
       "16   NAK13  K13 Release to Warehouse (manually planned loads)     13.0   22.2   \n",
       "17  NAK13b  K13b Release to Warehouse & Complete Picking W...     24.2  131.4   \n",
       "18   NAK14  K13 Release to Warehouse (manually planned loads)     36.7   67.6   \n",
       "19  NAK14b  K13b Release to Warehouse & Complete Picking W...     37.6   93.3   \n",
       "20   NAK15                      K15 Invoice Load confirmation     57.6  527.8   \n",
       "21   UGK11         K11 Send Load to Roadnet load for Planning      2.3    2.7   \n",
       "22   UGK12            K12 Receive load from Roadnet into D365     17.1   17.1   \n",
       "23   UGK13  K13 Release to Warehouse (manually planned loads)      8.3   13.0   \n",
       "24  UGK13b  K13b Release to Warehouse & Complete Picking W...     55.8  149.9   \n",
       "25   UGK14  K13 Release to Warehouse (manually planned loads)     14.5   38.6   \n",
       "26  UGK14b  K13b Release to Warehouse & Complete Picking W...     10.2   46.0   \n",
       "27   UGK15                      K15 Invoice Load confirmation     94.4  255.0   \n",
       "\n",
       "    90th_%     SD  Successful Runs  \n",
       "0      5.1    1.1              120  \n",
       "1    317.9  120.7                7  \n",
       "2     33.8   12.1                8  \n",
       "3     34.1   14.6              173  \n",
       "4     65.5   23.4                8  \n",
       "5     54.6   22.8              404  \n",
       "6     67.4   34.0              604  \n",
       "7     54.8    NaN                1  \n",
       "8      4.6    0.8                6  \n",
       "9     15.3    3.5                4  \n",
       "10    39.5   15.3               33  \n",
       "11    10.0    4.3                4  \n",
       "12    28.3   10.5              379  \n",
       "13   118.0   49.5               62  \n",
       "14     7.4    1.8                5  \n",
       "15    55.9    NaN                1  \n",
       "16    18.0    5.3                6  \n",
       "17    59.0   24.8               60  \n",
       "18    67.4   24.9                6  \n",
       "19    74.9   23.6               60  \n",
       "20   119.0   70.0              288  \n",
       "21     2.7    0.3                6  \n",
       "22    17.1    NaN                1  \n",
       "23     9.9    2.1                7  \n",
       "24   117.2   46.6               11  \n",
       "25    32.8   13.8                7  \n",
       "26    24.2    9.4              403  \n",
       "27   148.8   63.0               11  "
      ]
     },
     "execution_count": 54,
     "metadata": {},
     "output_type": "execute_result"
    }
   ],
   "source": [
    "kpi_results"
   ]
  },
  {
   "cell_type": "code",
   "execution_count": 55,
   "metadata": {},
   "outputs": [
    {
     "name": "stdout",
     "output_type": "stream",
     "text": [
      "Generating output files\n"
     ]
    }
   ],
   "source": [
    "print(\"Generating output files\")\n",
    "\n",
    "filename = 'data/execution/' + rundate +  '_kpi_results.xlsx'\n",
    "kpi_results.to_excel(filename,index=False)"
   ]
  }
 ],
 "metadata": {
  "kernelspec": {
   "display_name": "Python 3",
   "language": "python",
   "name": "python3"
  },
  "language_info": {
   "codemirror_mode": {
    "name": "ipython",
    "version": 3
   },
   "file_extension": ".py",
   "mimetype": "text/x-python",
   "name": "python",
   "nbconvert_exporter": "python",
   "pygments_lexer": "ipython3",
   "version": "3.10.12"
  },
  "orig_nbformat": 4,
  "vscode": {
   "interpreter": {
    "hash": "916dbcbb3f70747c44a77c7bcd40155683ae19c65e1c03b4aa3499c5328201f1"
   }
  }
 },
 "nbformat": 4,
 "nbformat_minor": 2
}
